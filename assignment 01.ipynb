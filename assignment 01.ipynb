{
 "cells": [
  {
   "cell_type": "code",
   "execution_count": 2,
   "id": "b7c63bc4",
   "metadata": {},
   "outputs": [
    {
     "name": "stdout",
     "output_type": "stream",
     "text": [
      "Twinkle, twinkle, little star\n",
      "\tHow I wonder what you are!\n",
      "\t\tUp above the world so high,\n",
      "\t\tLike a diamond in the sky.\n",
      "Twinkle, twinkle, little star,\n",
      "\tHow I wonder what you are\n"
     ]
    }
   ],
   "source": [
    "print(\"Twinkle, twinkle, little star\", end='\\n\\t');\n",
    "print( \"How I wonder what you are!\", end='\\n\\t\\t');\n",
    "print(\"Up above the world so high,\" , end='\\n\\t\\t');\n",
    "print(\"Like a diamond in the sky.\");\n",
    "print(\"Twinkle, twinkle, little star,\", end='\\n\\t');\n",
    "print(\"How I wonder what you are\");"
   ]
  },
  {
   "cell_type": "code",
   "execution_count": 3,
   "id": "2bf0fd05",
   "metadata": {},
   "outputs": [
    {
     "name": "stdout",
     "output_type": "stream",
     "text": [
      "3.8.8\n"
     ]
    }
   ],
   "source": [
    "\n",
    "from platform import python_version;\n",
    "print(python_version());\n"
   ]
  },
  {
   "cell_type": "code",
   "execution_count": 4,
   "id": "b6e2fe6c",
   "metadata": {},
   "outputs": [
    {
     "name": "stdout",
     "output_type": "stream",
     "text": [
      "now = 2022-01-01 04:59:14.518435\n",
      "date and time = 01/01/2022 04:59:14\n"
     ]
    }
   ],
   "source": [
    "from datetime import datetime;\n",
    "now = datetime.now();\n",
    "print(\"now =\", now);\n",
    "dt_string = now.strftime(\"%d/%m/%Y %H:%M:%S\");\n",
    "print(\"date and time =\", dt_string);"
   ]
  },
  {
   "cell_type": "code",
   "execution_count": 5,
   "id": "c4e0e4f5",
   "metadata": {},
   "outputs": [
    {
     "name": "stdout",
     "output_type": "stream",
     "text": [
      "Enter radius of circle : 125\n",
      "Area of the circle is: 49087.385212340516\n"
     ]
    }
   ],
   "source": [
    "from math import pi;\n",
    "r = float(input (\"Enter radius of circle : \"));\n",
    "print (\"Area of the circle is: \" + str(pi * r**2));"
   ]
  },
  {
   "cell_type": "code",
   "execution_count": 6,
   "id": "f7f84806",
   "metadata": {},
   "outputs": [
    {
     "name": "stdout",
     "output_type": "stream",
     "text": [
      "enter your first name tahir\n",
      "enter your last name hussain\n",
      "hussain tahir\n"
     ]
    }
   ],
   "source": [
    "first_name= input(\"enter your first name \");\n",
    "last_name = input(\"enter your last name \");\n",
    "print (last_name,first_name);"
   ]
  },
  {
   "cell_type": "code",
   "execution_count": 10,
   "id": "151fc65a",
   "metadata": {},
   "outputs": [
    {
     "name": "stdout",
     "output_type": "stream",
     "text": [
      "20\n",
      "30\n",
      "sum of numbers = 50\n"
     ]
    }
   ],
   "source": [
    "first_nu=int(input());\n",
    "second_nu=int(input());\n",
    "print(\"sum of numbers =\", first_nu+second_nu);"
   ]
  },
  {
   "cell_type": "code",
   "execution_count": null,
   "id": "d663e2be",
   "metadata": {},
   "outputs": [],
   "source": []
  }
 ],
 "metadata": {
  "kernelspec": {
   "display_name": "Python 3",
   "language": "python",
   "name": "python3"
  },
  "language_info": {
   "codemirror_mode": {
    "name": "ipython",
    "version": 3
   },
   "file_extension": ".py",
   "mimetype": "text/x-python",
   "name": "python",
   "nbconvert_exporter": "python",
   "pygments_lexer": "ipython3",
   "version": "3.8.8"
  }
 },
 "nbformat": 4,
 "nbformat_minor": 5
}
